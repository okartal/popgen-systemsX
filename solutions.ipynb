{
 "cells": [
  {
   "cell_type": "markdown",
   "metadata": {
    "collapsed": true
   },
   "source": [
    "# Population Genetics\n",
    "\n",
    "This is a collection of elementary exercises that introduces you to the most fundamental concepts of population genetics. We use Python to explore these topics and solve problems.\n",
    "\n",
    "The exercises have been chosen for a one day workshop on modeling with 2.5 hours exercises preceded by approx. 3 hours of lectures (a primer on population genetics and probability theory). Evidently, it is not possible to cover a lot of material in this time; but upon finishing this workshop, you should feel comfortable picking up a textbook on population genetics and exploring the many software packages that are available for population genetics.\n",
    "\n",
    "__Note__: You can skip the exercises marked by an asterisk and tackle them if time permits.\n",
    "\n",
    "## Preliminaries\n",
    "\n",
    "All exercises can in principle be solved by only using the Python standard library and a plotting library. However, if you like and it feels more comfortable to you, you can use as well the libraries numpy and pandas. Note, that you have a link to the documentation of Python and standard scientific libraries in the \"Help\" menu of the Jupyter/IPython notebook.\n",
    "\n",
    "IPython has so-called [magic commands](http://ipython.readthedocs.org/en/stable/interactive/magics.html) (starting with %) to facilitate certain tasks. In our case, we want to import libraries for efficient handling of numeric data (numpy) and for plotting data (matplotlib). Evaluate the following two commands by pressing shift+enter in the cell; they import the necessary libraries and enable inline display of figures (it make take a few seconds)."
   ]
  },
  {
   "cell_type": "code",
   "execution_count": 1,
   "metadata": {
    "collapsed": false
   },
   "outputs": [],
   "source": [
    "import numpy as np\n",
    "import matplotlib.pyplot as plt\n",
    "%matplotlib inline"
   ]
  },
  {
   "cell_type": "markdown",
   "metadata": {},
   "source": [
    "Let us define two vector variables (a regular sequence and a random one) and print them."
   ]
  },
  {
   "cell_type": "code",
   "execution_count": 2,
   "metadata": {
    "collapsed": false
   },
   "outputs": [
    {
     "name": "stdout",
     "output_type": "stream",
     "text": [
      "[0 1 2 3 4 5 6 7 8 9]\n",
      "[ 0.56413369  0.89773297  0.86801976  0.59831375  0.77703175  0.50338575\n",
      "  0.14804271  0.37863322  0.89393793  0.85499269]\n"
     ]
    }
   ],
   "source": [
    "x, y = np.arange(10), np.random.rand(10)\n",
    "print(x, y, sep='\\n')"
   ]
  },
  {
   "cell_type": "markdown",
   "metadata": {},
   "source": [
    "The following command plots $y$ as a function of $x$ and labels the axes using $\\LaTeX$."
   ]
  },
  {
   "cell_type": "code",
   "execution_count": 3,
   "metadata": {
    "collapsed": false,
    "scrolled": true
   },
   "outputs": [
    {
     "data": {
      "text/plain": [
       "<matplotlib.text.Text at 0xad5d98ec>"
      ]
     },
     "execution_count": 3,
     "metadata": {},
     "output_type": "execute_result"
    },
    {
     "data": {
      "image/png": "[encoded data removed]",
      "text/plain": [
       "<matplotlib.figure.Figure at 0xad5ab98c>"
      ]
     },
     "metadata": {},
     "output_type": "display_data"
    }
   ],
   "source": [
    "plt.plot(x, y, linestyle='--', color='r', linewidth=2)\n",
    "plt.xlabel('time, $t$')\n",
    "plt.ylabel('frequency, $f$')"
   ]
  },
  {
   "cell_type": "markdown",
   "metadata": {},
   "source": [
    "From the [tutorial](http://matplotlib.org/users/pyplot_tutorial.html): \"matplotlib.pyplot is a collection of command style functions that make matplotlib work like MATLAB.\"\n",
    "\n",
    "__Comment__: The tutorial is a good starting point to learn about the most basic functionalities of matplotlib, especially if you are familiar with MATLAB. Matplotlib is a powerful library but sometimes too complicated for making statistical plots à la *R*. However, there are other libraries that, in part, are built on matplotlib and provide more convenient functionality for statistical use cases, especially in conjunction with the data structures that the library *pandas* provides (see [pandas](http://pandas.pydata.org/pandas-docs/stable/visualization.html), [seaborn](http://stanford.edu/~mwaskom/software/seaborn/), [ggplot](http://ggplot.yhathq.com/) and many more)."
   ]
  },
  {
   "cell_type": "markdown",
   "metadata": {},
   "source": [
    "## Hardy-Weinberg Equilibrium\n",
    "\n",
    "These exercises should make you comfortable with the fundamental notions of population genetics: allele and genotype frequencies, homo- and heterozygosity, and inbreeding.\n",
    "\n",
    "We will use data from a classical paper on enzyme polymorphisms at the alkaline phosphatase (ALP) locus in humans ([Harris 1966](http://www.jstor.org/stable/75451)). In this case, the alleles have been defined in terms of protein properties. Harris could electrophoretically distinguish three proteins by their migration speed and called them S (slow), F (fast), and I (intermediate).\n",
    "\n",
    "We use a Python [dictionary](https://docs.python.org/3.4/library/stdtypes.html#mapping-types-dict) to store the observed numbers of genotypes at the ALP locus in a sample from the English people."
   ]
  },
  {
   "cell_type": "code",
   "execution_count": 4,
   "metadata": {
    "collapsed": false
   },
   "outputs": [],
   "source": [
    "alp_genotype = {'obs_number':\n",
    "                {'SS': 141, 'SF': 111, 'FF': 28, 'SI': 32, 'FI': 15, 'II': 5}\n",
    "               }"
   ]
  },
  {
   "cell_type": "markdown",
   "metadata": {},
   "source": [
    "### 1. Calculate the observed genotype frequencies at the ALP locus."
   ]
  },
  {
   "cell_type": "code",
   "execution_count": 5,
   "metadata": {
    "collapsed": false
   },
   "outputs": [
    {
     "name": "stdout",
     "output_type": "stream",
     "text": [
      "{'SI': 32, 'FF': 28, 'SS': 141, 'FI': 15, 'SF': 111, 'II': 5}\n"
     ]
    }
   ],
   "source": [
    "number = alp_genotype['obs_number']\n",
    "print(number)"
   ]
  },
  {
   "cell_type": "code",
   "execution_count": 6,
   "metadata": {
    "collapsed": false
   },
   "outputs": [
    {
     "name": "stdout",
     "output_type": "stream",
     "text": [
      "332\n"
     ]
    }
   ],
   "source": [
    "total_number = sum(list(number.values()))\n",
    "print(total_number)"
   ]
  },
  {
   "cell_type": "code",
   "execution_count": 7,
   "metadata": {
    "collapsed": false
   },
   "outputs": [
    {
     "name": "stdout",
     "output_type": "stream",
     "text": [
      "{'SI': 0.0963855421686747, 'FF': 0.08433734939759036, 'SS': 0.4246987951807229, 'FI': 0.045180722891566265, 'SF': 0.33433734939759036, 'II': 0.015060240963855422}\n"
     ]
    }
   ],
   "source": [
    "frequency = dict()\n",
    "\n",
    "for genotype in number:\n",
    "    frequency[genotype] = number[genotype]/total_number\n",
    "\n",
    "print(frequency)"
   ]
  },
  {
   "cell_type": "code",
   "execution_count": 8,
   "metadata": {
    "collapsed": false
   },
   "outputs": [
    {
     "name": "stdout",
     "output_type": "stream",
     "text": [
      "{'obs_frequency': {'SI': 0.0963855421686747, 'FF': 0.08433734939759036, 'SS': 0.4246987951807229, 'FI': 0.045180722891566265, 'SF': 0.33433734939759036, 'II': 0.015060240963855422}, 'obs_number': {'SI': 32, 'FF': 28, 'SS': 141, 'FI': 15, 'SF': 111, 'II': 5}}\n"
     ]
    }
   ],
   "source": [
    "alp_genotype['obs_frequency'] = frequency\n",
    "print(alp_genotype)"
   ]
  },
  {
   "cell_type": "markdown",
   "metadata": {},
   "source": [
    "### 2. Calculate the observed allele frequencies at  the ALP locus."
   ]
  },
  {
   "cell_type": "code",
   "execution_count": 9,
   "metadata": {
    "collapsed": false
   },
   "outputs": [],
   "source": [
    "alp_allele = dict()\n",
    "\n",
    "for allele in 'SIF':\n",
    "    allele_freq = 0\n",
    "    for genotype, frequency in alp_genotype['obs_frequency'].items():\n",
    "        allele_freq += genotype.count(allele)/2*frequency\n",
    "    alp_allele[allele] = allele_freq"
   ]
  },
  {
   "cell_type": "code",
   "execution_count": 10,
   "metadata": {
    "collapsed": false
   },
   "outputs": [
    {
     "data": {
      "text/plain": [
       "{'F': 0.27409638554216864, 'I': 0.08584337349397592, 'S': 0.6400602409638554}"
      ]
     },
     "execution_count": 10,
     "metadata": {},
     "output_type": "execute_result"
    }
   ],
   "source": [
    "alp_allele"
   ]
  },
  {
   "cell_type": "code",
   "execution_count": 11,
   "metadata": {
    "collapsed": false
   },
   "outputs": [
    {
     "data": {
      "text/plain": [
       "1.0"
      ]
     },
     "execution_count": 11,
     "metadata": {},
     "output_type": "execute_result"
    }
   ],
   "source": [
    "sum(list(alp_allele.values()))"
   ]
  },
  {
   "cell_type": "markdown",
   "metadata": {},
   "source": [
    "### 3. Calculate the *expected* genotype frequencies if the ALP locus were in Hardy-Weinberg equilibrium."
   ]
  },
  {
   "cell_type": "code",
   "execution_count": 12,
   "metadata": {
    "collapsed": false
   },
   "outputs": [],
   "source": [
    "alp_exp_frequency = dict()\n",
    "# s**2 + i**2 + f**2 + 2*s*i + 2*s*f + 2*i*f\n",
    "for genotype in alp_genotype['obs_number']:\n",
    "    alleles = [allele for allele in genotype]\n",
    "    exp_frequency = alp_allele[alleles[0]]*alp_allele[alleles[1]]\n",
    "    if alleles[0] != alleles[1]:\n",
    "        exp_frequency = 2*exp_frequency\n",
    "    alp_exp_frequency[genotype] = exp_frequency\n",
    "    \n",
    "alp_genotype['exp_frequency'] = alp_exp_frequency"
   ]
  },
  {
   "cell_type": "code",
   "execution_count": 13,
   "metadata": {
    "collapsed": false
   },
   "outputs": [
    {
     "data": {
      "text/plain": [
       "{'exp_frequency': {'FF': 0.07512882856728116,\n",
       "  'FI': 0.047058716794890404,\n",
       "  'II': 0.007369084772826247,\n",
       "  'SF': 0.35087639715488456,\n",
       "  'SI': 0.10988986064740892,\n",
       "  'SS': 0.4096771120627086},\n",
       " 'obs_frequency': {'FF': 0.08433734939759036,\n",
       "  'FI': 0.045180722891566265,\n",
       "  'II': 0.015060240963855422,\n",
       "  'SF': 0.33433734939759036,\n",
       "  'SI': 0.0963855421686747,\n",
       "  'SS': 0.4246987951807229},\n",
       " 'obs_number': {'FF': 28, 'FI': 15, 'II': 5, 'SF': 111, 'SI': 32, 'SS': 141}}"
      ]
     },
     "execution_count": 13,
     "metadata": {},
     "output_type": "execute_result"
    }
   ],
   "source": [
    "alp_genotype"
   ]
  },
  {
   "cell_type": "markdown",
   "metadata": {},
   "source": [
    "### [$\\ast$] 4. Calculate the estimate of the inbreeding coefficient $F$ for the ALP locus.\n",
    "\n",
    "The inbreeding coefficient is defined as\n",
    "$$F = 1 - \\frac{h_{\\mathrm{obs}}}{h_{\\mathrm{exp}}},$$\n",
    "where $h$ denotes the (observed and expected) frequency of heterozygotes. Can you interpret the result in simple terms?"
   ]
  },
  {
   "cell_type": "code",
   "execution_count": 14,
   "metadata": {
    "collapsed": false
   },
   "outputs": [
    {
     "name": "stdout",
     "output_type": "stream",
     "text": [
      "0.06285898042858795\n"
     ]
    }
   ],
   "source": [
    "obs_het, exp_het = list(), list()\n",
    "\n",
    "for gt in alp_genotype['obs_number']:\n",
    "    if len(set(gt)) == 2:\n",
    "        obs_het.append(alp_genotype['obs_frequency'][gt])\n",
    "        exp_het.append(alp_genotype['exp_frequency'][gt])\n",
    "\n",
    "inbreeding_coef = 1 - sum(obs_het)/sum(exp_het)\n",
    "print(inbreeding_coef)"
   ]
  },
  {
   "cell_type": "markdown",
   "metadata": {},
   "source": [
    "## Genetic Drift\n",
    "\n",
    "Not all gametes that are produced by an organism pass over to the next generation. Due to numerous possible influences there is only a finite sample that contributes to the next generation. Therefore, not all alleles of a gene are guaranteed to appear in the next generation in proportions equal to those in the present generation. As long as we cannot specify a process that leads to a specific selection of alleles and we have no reason to believe that the allele itself has a bearing upon its selection, sampling is an *undirected* (i.e. *random*) cause of allele frequency changes in a population. We call such an undirected carry-over of genes *genetic drift*.\n",
    "\n",
    "Genetic drift does not introduce any new assumptions compared to the Hardy-Weinberg case; it just drops the assumption of infinite population size."
   ]
  },
  {
   "cell_type": "markdown",
   "metadata": {},
   "source": [
    "### 5. Write a function that runs the Wright-Fisher model of genetic drift.\n",
    "\n",
    "The function must at least take the following __arguments__:\n",
    "\n",
    "* number of generations\n",
    "* size of the population (i.e. number of diploid individuals)\n",
    "* initial allele frequency (we have only two alleles, so considering a single allele is enough)\n",
    "\n",
    "The function should __return__ a list (or an array if you like) that represents the trajectory of the allele over the generations."
   ]
  },
  {
   "cell_type": "code",
   "execution_count": 15,
   "metadata": {
    "collapsed": true
   },
   "outputs": [],
   "source": [
    "import random\n",
    "\n",
    "def drift(initial_frequency=0.5, generations=100, population_size=20):\n",
    "    allele_sample_size = 2*population_size\n",
    "    allele_trajectory = [initial_frequency]\n",
    "    for generation in range(generations):\n",
    "        allele_count = 0\n",
    "        # alternative: allele_count = np.random.binomial(allele_sample_size, initial_frequency)\n",
    "        for trial in range(allele_sample_size):\n",
    "            if random.random() < initial_frequency:\n",
    "                allele_count += 1\n",
    "        new_allele_frequency = allele_count/allele_sample_size\n",
    "        allele_trajectory.append(new_allele_frequency)\n",
    "        initial_frequency = new_allele_frequency\n",
    "    return allele_trajectory"
   ]
  },
  {
   "cell_type": "markdown",
   "metadata": {},
   "source": [
    "### 6. Plot several trajectories (i.e. replicate populations) of the Wright-Fisher model and study genetic drift with different parameter values.\n",
    "\n",
    "* What is the long-term behaviour of the locus?\n",
    "* What is the effect of small/large population sizes on the trajectories?\n",
    "* Do the trajectories of the replicate populations differ?\n",
    "* Do rare alleles become extinct more often than abundant alleles?"
   ]
  },
  {
   "cell_type": "code",
   "execution_count": 16,
   "metadata": {
    "collapsed": false
   },
   "outputs": [
    {
     "data": {
      "image/png": "[encoded data removed]",
      "text/plain": [
       "<matplotlib.figure.Figure at 0xad5d732c>"
      ]
     },
     "metadata": {},
     "output_type": "display_data"
    }
   ],
   "source": [
    "replicates = 5\n",
    "        \n",
    "for i in range(replicates):\n",
    "    fA = drift(initial_frequency=0.5, generations=10, population_size=10)\n",
    "    plt.plot(fA, linewidth=2, alpha=0.5)"
   ]
  },
  {
   "cell_type": "markdown",
   "metadata": {},
   "source": [
    "### [$\\ast$] 7. Plot the distribution of allele frequency under genetic drift. \n",
    "\n",
    "There is another way to look at the dynamics of a locus under genetic drift. If we have a large collection of replicate populations, we can take, at each time point, the allele frequencies of all these populations and plot a histogram. Thus, instead of looking at individual trajectories, we can observe how the *distribution* of this allele changes due to genetic drift across all replicate populations. This viewpoint of looking at a time-dependent probability density, is central for understanding the diffusion approximation to genetic drift ([Kimura 1955](http://www.ncbi.nlm.nih.gov/pmc/articles/PMC528040/)).\n",
    "\n",
    "Write a function that takes the output of the Wright-Fisher model, a list of generation times and plots a series of histograms of allele frequencies. What can you observe?"
   ]
  },
  {
   "cell_type": "code",
   "execution_count": 17,
   "metadata": {
    "collapsed": false
   },
   "outputs": [],
   "source": [
    "def drift_replicates(replicates=10, generations=100, initial_frequency=0.5, population_size=20):\n",
    "    trajectory = np.zeros((replicates, generations + 1))\n",
    "    for rep in range(replicates):\n",
    "        trajectory[rep,] = drift(generations=generations,\n",
    "                                 initial_frequency=initial_frequency,\n",
    "                                 population_size=population_size)\n",
    "    return trajectory"
   ]
  },
  {
   "cell_type": "code",
   "execution_count": 18,
   "metadata": {
    "collapsed": false,
    "scrolled": true
   },
   "outputs": [],
   "source": [
    "n = drift_replicates(replicates=20, population_size=10)"
   ]
  },
  {
   "cell_type": "code",
   "execution_count": 19,
   "metadata": {
    "collapsed": false
   },
   "outputs": [
    {
     "data": {
      "text/plain": [
       "<matplotlib.colorbar.Colorbar at 0xac33522c>"
      ]
     },
     "execution_count": 19,
     "metadata": {},
     "output_type": "execute_result"
    },
    {
     "name": "stderr",
     "output_type": "stream",
     "text": [
      "/home/oender/anaconda/envs/popgen/lib/python3.5/site-packages/matplotlib/collections.py:590: FutureWarning: elementwise comparison failed; returning scalar instead, but in the future will perform elementwise comparison\n",
      "  if self._edgecolors == str('face'):\n"
     ]
    },
    {
     "data": {
      "image/png": "[encoded data removed]",
      "text/plain": [
       "<matplotlib.figure.Figure at 0xac49594c>"
      ]
     },
     "metadata": {},
     "output_type": "display_data"
    }
   ],
   "source": [
    "plt.matshow(n)\n",
    "plt.colorbar()"
   ]
  },
  {
   "cell_type": "code",
   "execution_count": 20,
   "metadata": {
    "collapsed": false,
    "scrolled": true
   },
   "outputs": [
    {
     "data": {
      "image/png": "[encoded data removed]",
      "text/plain": [
       "<matplotlib.figure.Figure at 0xac3a7b0c>"
      ]
     },
     "metadata": {},
     "output_type": "display_data"
    },
    {
     "data": {
      "image/png": "[encoded data removed]",
      "text/plain": [
       "<matplotlib.figure.Figure at 0xac46c3ac>"
      ]
     },
     "metadata": {},
     "output_type": "display_data"
    },
    {
     "data": {
      "image/png": "[encoded data removed]",
      "text/plain": [
       "<matplotlib.figure.Figure at 0xac471eac>"
      ]
     },
     "metadata": {},
     "output_type": "display_data"
    },
    {
     "data": {
      "image/png": "[encoded data removed]",
      "text/plain": [
       "<matplotlib.figure.Figure at 0xac200f6c>"
      ]
     },
     "metadata": {},
     "output_type": "display_data"
    },
    {
     "data": {
      "image/png": "[encoded data removed]",
      "text/plain": [
       "<matplotlib.figure.Figure at 0xac557dec>"
      ]
     },
     "metadata": {},
     "output_type": "display_data"
    }
   ],
   "source": [
    "slices = range(0, 100, 20)\n",
    "for generation in slices:\n",
    "    plt.figure()\n",
    "    plt.hist(n[:, generation], color='red', alpha=.5)\n",
    "    "
   ]
  },
  {
   "cell_type": "markdown",
   "metadata": {},
   "source": [
    "### 8. Model genetic drift as a Markov chain.\n",
    "\n",
    "The temporal evolution of the probability distribution is actually governed by a deterministic equation, the Markov chain. To simulate it, we have to only know the transition probabilities and the initial frequencies of all possible states. Since we are looking at a population, the possible states are given by the number of reference alleles $A$; for a population of $2N$ alleles, we have the states $X(A)=0, 1, 2, \\ldots, 2N$. The transition probability from $X(A)=i$ to $X(A)=j$ is given by the binomial distribution:\n",
    "\n",
    "$$T_{ij} = \\binom{2N}{j} \\left(\\frac{i}{2N}\\right)^j \\left(1-\\frac{i}{2N}\\right)^{2N-j}$$\n",
    "\n",
    "* Write a function that gives the transition matrix for a given population size $N$. Tip: For an efficient implementation, you can use the binom() function from [scipy.stats](http://docs.scipy.org/doc/scipy-0.16.0/reference/generated/scipy.stats.binom.html). How can you test if your matrix is consistent?\n",
    "* For $N=4$, calculate the probability that a population with 4 copies of allele A transitions into a state with 3, 4, 5 copies. Why should these values be symmetric around 4 copy numbers? \n",
    "* Use the function [matrix_power](http://docs.scipy.org/doc/numpy/reference/generated/numpy.linalg.matrix_power.html) from numpy.linalg to compute the distribution for 19 generations with the parameters $N=16$ and initial population frequency of the reference allele of $\\frac{1}{2}$. The state probability vector after $t$ transitions is given by\n",
    "$$p(t) = p(0)T^t$$"
   ]
  },
  {
   "cell_type": "code",
   "execution_count": 2,
   "metadata": {
    "collapsed": false
   },
   "outputs": [],
   "source": [
    "from scipy.stats import binom\n",
    "\n",
    "def tmatrix(N=10):\n",
    "    twoN = 2*N\n",
    "    states = twoN + 1\n",
    "    t = np.zeros((states, states))\n",
    "    j = range(0, states)\n",
    "    for i in j:\n",
    "        p = i/twoN\n",
    "        t[i,] = binom.pmf(j, twoN, p)       \n",
    "    return t"
   ]
  },
  {
   "cell_type": "code",
   "execution_count": 3,
   "metadata": {
    "collapsed": false
   },
   "outputs": [],
   "source": [
    "N = 4\n",
    "T = tmatrix(N)\n",
    "p0 = np.zeros(2*N + 1)\n",
    "p0[N] = 1."
   ]
  },
  {
   "cell_type": "code",
   "execution_count": 12,
   "metadata": {
    "collapsed": false
   },
   "outputs": [
    {
     "data": {
      "text/plain": [
       "[<matplotlib.lines.Line2D at 0xab6012ac>]"
      ]
     },
     "execution_count": 12,
     "metadata": {},
     "output_type": "execute_result"
    },
    {
     "data": {
      "image/png": "[encoded data removed]",
      "text/plain": [
       "<matplotlib.figure.Figure at 0xab6d024c>"
      ]
     },
     "metadata": {},
     "output_type": "display_data"
    }
   ],
   "source": [
    "from numpy.linalg import matrix_power\n",
    "plt.plot(np.dot(p0, matrix_power(T, 10)))"
   ]
  },
  {
   "cell_type": "markdown",
   "metadata": {},
   "source": [
    "## Mutation\n",
    "\n",
    "You have seen yourself that genetic drift removes variation from the population. Since we can observe standing variation, it is evident that genetic drift cannot be the only evolutionary force. There must be something that causes variation. To a certain extent, new variants can arise in a population due to migration, that is an influx of new alleles. However, the ultimate cause of allelic variation is mutation.\n",
    "\n",
    "To study the interplay of drift and mutation, we will focus on the decay of heterozygosity or the dynamics of the inbreeding coefficient. With mutation, inbreeding changes according to the formula\n",
    "\n",
    "$$ F_t = \\left[ \\frac{1}{2N} + \\left( 1 - \\frac{1}{2N} \\right) F_{t-1} \\right] \\left( 1 - u \\right)^2 $$\n",
    "\n",
    "where $(1-u)^2$ is the probability that no mutation occured in either of the two alleles and $u$ is the mutation probability (also called mutation rate).\n",
    "\n",
    "### 9. Simulate the dynamics of the inbreeding coefficient with and without mutation and observe the stationary state. Pick a population size not too small. Play with the number of generations."
   ]
  },
  {
   "cell_type": "code",
   "execution_count": 57,
   "metadata": {
    "collapsed": false
   },
   "outputs": [
    {
     "data": {
      "text/plain": [
       "[0, 1000, 0, 1]"
      ]
     },
     "execution_count": 57,
     "metadata": {},
     "output_type": "execute_result"
    },
    {
     "data": {
      "image/png": "[encoded data removed]",
      "text/plain": [
       "<matplotlib.figure.Figure at 0xaaea1fac>"
      ]
     },
     "metadata": {},
     "output_type": "display_data"
    }
   ],
   "source": [
    "gen, N, u = 1000, 100, 0.001\n",
    "rate = 1/(2*N)\n",
    "prob = (1 - u)**2\n",
    "F = [0]\n",
    "for i in range(gen):\n",
    "    F.append((rate + (1 - rate)*F[-1])*prob)\n",
    "    \n",
    "plt.plot(F, linewidth=2)\n",
    "plt.axhline(1/(1+4*N*u), color='k', linestyle='--', linewidth=2)\n",
    "plt.axis([0, gen, 0, 1])"
   ]
  },
  {
   "cell_type": "markdown",
   "metadata": {},
   "source": [
    "## References\n",
    "\n",
    "Gillespie (2004) *Population Genetics: A Concise Guide* The Johns Hopkins University Press\n",
    "\n",
    "Hartl & Clark (2007) *Principles of Population Genetics* Sinauer Associates, Inc."
   ]
  },
  {
   "cell_type": "markdown",
   "metadata": {},
   "source": [
    "## Other Resources\n",
    "\n",
    "[Genetic Simulation Resources](http://popmodels.cancercontrol.cancer.gov/gsr/)"
   ]
  }
 ],
 "metadata": {
  "kernelspec": {
   "display_name": "Python 3",
   "language": "python",
   "name": "python3"
  },
  "language_info": {
   "codemirror_mode": {
    "name": "ipython",
    "version": 3
   },
   "file_extension": ".py",
   "mimetype": "text/x-python",
   "name": "python",
   "nbconvert_exporter": "python",
   "pygments_lexer": "ipython3",
   "version": "3.5.0"
  }
 },
 "nbformat": 4,
 "nbformat_minor": 0
}
