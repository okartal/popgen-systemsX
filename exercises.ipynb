{
 "cells": [
  {
   "cell_type": "markdown",
   "metadata": {
    "collapsed": true
   },
   "source": [
    "# Population Genetics\n",
    "\n",
    "*Önder Kartal, University of Zurich* \n",
    "\n",
    "This is a collection of elementary exercises that introduces you to the most fundamental concepts of population genetics. We use Python to explore these topics and solve problems.\n",
    "\n",
    "The exercises have been chosen for a one day workshop on modeling with 2.5 hours exercises preceded by approx. 3 hours of lectures (a primer on population genetics and probability theory). Evidently, it is not possible to cover a lot of material in this time; but upon finishing this workshop, you should feel comfortable picking up a textbook on population genetics and exploring the many software packages that are available for population genetics.\n",
    "\n",
    "__Note__: You can skip the exercises marked by an asterisk and tackle them if time permits.\n",
    "\n",
    "## Preliminaries\n",
    "\n",
    "All exercises can in principle be solved by only using the Python standard library and a plotting library. However, if you like and it feels more comfortable to you, you can use as well the libraries numpy and pandas. Note, that you have a link to the documentation of Python and standard scientific libraries in the \"Help\" menu of the Jupyter/IPython notebook.\n",
    "\n",
    "IPython has so-called [magic commands](http://ipython.readthedocs.org/en/stable/interactive/magics.html) (starting with %) to facilitate certain tasks. In our case, we want to import libraries for efficient handling of numeric data (numpy) and for plotting data (matplotlib). Evaluate the following two commands by pressing shift+enter in the cell; they import the necessary libraries and enable inline display of figures (it make take a few seconds)."
   ]
  },
  {
   "cell_type": "code",
   "execution_count": 1,
   "metadata": {
    "collapsed": false
   },
   "outputs": [],
   "source": [
    "import numpy as np\n",
    "import matplotlib.pyplot as plt\n",
    "%matplotlib inline"
   ]
  },
  {
   "cell_type": "markdown",
   "metadata": {},
   "source": [
    "Let us define two vector variables (a regular sequence and a random one) and print them."
   ]
  },
  {
   "cell_type": "code",
   "execution_count": 2,
   "metadata": {
    "collapsed": false
   },
   "outputs": [
    {
     "name": "stdout",
     "output_type": "stream",
     "text": [
      "[0 1 2 3 4 5 6 7 8 9]\n",
      "[ 0.43191072  0.17692517  0.42616389  0.73142861  0.52226624  0.54028909\n",
      "  0.19863538  0.08375168  0.03776252  0.73497815]\n"
     ]
    }
   ],
   "source": [
    "x, y = np.arange(10), np.random.rand(10)\n",
    "print(x, y, sep='\\n')"
   ]
  },
  {
   "cell_type": "markdown",
   "metadata": {},
   "source": [
    "The following command plots $y$ as a function of $x$ and labels the axes using $\\LaTeX$."
   ]
  },
  {
   "cell_type": "code",
   "execution_count": 3,
   "metadata": {
    "collapsed": false,
    "scrolled": true
   },
   "outputs": [
    {
     "data": {
      "text/plain": [
       "<matplotlib.text.Text at 0xad64d92c>"
      ]
     },
     "execution_count": 3,
     "metadata": {},
     "output_type": "execute_result"
    },
    {
     "data": {
      "image/png": "[encoded data removed]",
      "text/plain": [
       "<matplotlib.figure.Figure at 0xad61faec>"
      ]
     },
     "metadata": {},
     "output_type": "display_data"
    }
   ],
   "source": [
    "plt.plot(x, y, linestyle='--', color='r', linewidth=2)\n",
    "plt.xlabel('time, $t$')\n",
    "plt.ylabel('frequency, $f$')"
   ]
  },
  {
   "cell_type": "markdown",
   "metadata": {},
   "source": [
    "From the [tutorial](http://matplotlib.org/users/pyplot_tutorial.html): \"matplotlib.pyplot is a collection of command style functions that make matplotlib work like MATLAB.\"\n",
    "\n",
    "__Comment__: The tutorial is a good starting point to learn about the most basic functionalities of matplotlib, especially if you are familiar with MATLAB. Matplotlib is a powerful library but sometimes too complicated for making statistical plots à la *R*. However, there are other libraries that, in part, are built on matplotlib and provide more convenient functionality for statistical use cases, especially in conjunction with the data structures that the library *pandas* provides (see [pandas](http://pandas.pydata.org/pandas-docs/stable/visualization.html), [seaborn](http://stanford.edu/~mwaskom/software/seaborn/), [ggplot](http://ggplot.yhathq.com/) and many more)."
   ]
  },
  {
   "cell_type": "markdown",
   "metadata": {},
   "source": [
    "## Hardy-Weinberg Equilibrium\n",
    "\n",
    "These exercises should make you comfortable with the fundamental notions of population genetics: allele and genotype frequencies, homo- and heterozygosity, and inbreeding.\n",
    "\n",
    "We will use data from a classical paper on enzyme polymorphisms at the alkaline phosphatase (ALP) locus in humans ([Harris 1966](http://www.jstor.org/stable/75451)). In this case, the alleles have been defined in terms of protein properties. Harris could electrophoretically distinguish three proteins by their migration speed and called them S (slow), F (fast), and I (intermediate).\n",
    "\n",
    "We use a Python [dictionary](https://docs.python.org/3.4/library/stdtypes.html#mapping-types-dict) to store the observed numbers of genotypes at the ALP locus in a sample from the English people."
   ]
  },
  {
   "cell_type": "code",
   "execution_count": 4,
   "metadata": {
    "collapsed": false
   },
   "outputs": [],
   "source": [
    "alp_genotype = {'obs_number':\n",
    "                {'SS': 141, 'SF': 111, 'FF': 28, 'SI': 32, 'FI': 15, 'II': 5}\n",
    "               }"
   ]
  },
  {
   "cell_type": "markdown",
   "metadata": {},
   "source": [
    "### 1. Calculate the observed genotype frequencies at the ALP locus."
   ]
  },
  {
   "cell_type": "code",
   "execution_count": null,
   "metadata": {
    "collapsed": true
   },
   "outputs": [],
   "source": []
  },
  {
   "cell_type": "markdown",
   "metadata": {},
   "source": [
    "### 2. Calculate the observed allele frequencies at  the ALP locus."
   ]
  },
  {
   "cell_type": "code",
   "execution_count": null,
   "metadata": {
    "collapsed": true
   },
   "outputs": [],
   "source": []
  },
  {
   "cell_type": "markdown",
   "metadata": {},
   "source": [
    "### 3. Calculate the *expected* genotype frequencies if the ALP locus were in Hardy-Weinberg equilibrium."
   ]
  },
  {
   "cell_type": "code",
   "execution_count": null,
   "metadata": {
    "collapsed": true
   },
   "outputs": [],
   "source": []
  },
  {
   "cell_type": "markdown",
   "metadata": {},
   "source": [
    "### [$\\ast$] 4. Calculate the estimate of the inbreeding coefficient $F$ for the ALP locus.\n",
    "\n",
    "The inbreeding coefficient is defined as\n",
    "$$F = 1 - \\frac{h_{\\mathrm{obs}}}{h_{\\mathrm{exp}}},$$\n",
    "where $h$ denotes the (observed and expected) frequency of heterozygotes. Can you interpret the result in simple terms?"
   ]
  },
  {
   "cell_type": "code",
   "execution_count": null,
   "metadata": {
    "collapsed": true
   },
   "outputs": [],
   "source": []
  },
  {
   "cell_type": "markdown",
   "metadata": {},
   "source": [
    "## Genetic Drift\n",
    "\n",
    "Not all gametes that are produced by an organism pass over to the next generation. Due to numerous possible influences there is only a finite sample that contributes to the next generation. Therefore, not all alleles of a gene are guaranteed to appear in the next generation in proportions equal to those in the present generation. As long as we cannot specify a process that leads to a specific selection of alleles and we have no reason to believe that the allele itself has a bearing upon its selection, sampling is an *undirected* (i.e. *random*) cause of allele frequency changes in a population. We call such an undirected carry-over of genes *genetic drift*.\n",
    "\n",
    "Genetic drift does not introduce any new assumptions compared to the Hardy-Weinberg case; it just drops the assumption of infinite population size."
   ]
  },
  {
   "cell_type": "markdown",
   "metadata": {},
   "source": [
    "### 5. Write a function that runs the Wright-Fisher model of genetic drift.\n",
    "\n",
    "The function must at least take the following __arguments__:\n",
    "\n",
    "* number of generations\n",
    "* size of the population (i.e. number of diploid individuals)\n",
    "* initial allele frequency (we have only two alleles, so considering a single allele is enough)\n",
    "\n",
    "The function should __return__ a list (or an array if you like) that represents the trajectory of the allele over the generations."
   ]
  },
  {
   "cell_type": "code",
   "execution_count": null,
   "metadata": {
    "collapsed": true
   },
   "outputs": [],
   "source": []
  },
  {
   "cell_type": "markdown",
   "metadata": {},
   "source": [
    "### 6. Plot several trajectories (i.e. replicate populations) of the Wright-Fisher model and study genetic drift with different parameter values.\n",
    "\n",
    "* What is the long-term behaviour of the locus?\n",
    "* What is the effect of small/large population sizes on the trajectories?\n",
    "* Do the trajectories of the replicate populations differ?\n",
    "* Do rare alleles become extinct more often than abundant alleles?"
   ]
  },
  {
   "cell_type": "code",
   "execution_count": null,
   "metadata": {
    "collapsed": true
   },
   "outputs": [],
   "source": []
  },
  {
   "cell_type": "markdown",
   "metadata": {},
   "source": [
    "### [$\\ast$] 7. Plot the distribution of allele frequency under genetic drift. \n",
    "\n",
    "There is another way to look at the dynamics of a locus under genetic drift. If we have a large collection of replicate populations, we can take, at each time point, the allele frequencies of all these populations and plot a histogram. Thus, instead of looking at individual trajectories, we can observe how the *distribution* of this allele changes due to genetic drift across all replicate populations. This viewpoint of looking at a time-dependent probability density, is central for understanding the diffusion approximation to genetic drift ([Kimura 1955](http://www.ncbi.nlm.nih.gov/pmc/articles/PMC528040/)).\n",
    "\n",
    "Write a function that takes the output of the Wright-Fisher model, a list of generation times and plots a series of histograms of allele frequencies. What can you observe?"
   ]
  },
  {
   "cell_type": "code",
   "execution_count": null,
   "metadata": {
    "collapsed": true
   },
   "outputs": [],
   "source": []
  },
  {
   "cell_type": "markdown",
   "metadata": {},
   "source": [
    "### 8. Model genetic drift as a Markov chain.\n",
    "\n",
    "The temporal evolution of the probability distribution is actually governed by a deterministic equation, the Markov chain. To simulate it, we have to only know the transition probabilities and the initial frequencies of all possible states. Since we are looking at a population, the possible states are given by the number of reference alleles $A$; for a population of $2N$ alleles, we have the states $X(A)=0, 1, 2, \\ldots, 2N$. The transition probability from $X(A)=i$ to $X(A)=j$ is given by the binomial distribution:\n",
    "\n",
    "$$T_{ij} = \\binom{2N}{j} \\left(\\frac{i}{2N}\\right)^j \\left(1-\\frac{i}{2N}\\right)^{2N-j}$$\n",
    "\n",
    "* Write a function that gives the transition matrix for a given population size $N$. Tip: For an efficient implementation, you can use the binom() function from [scipy.stats](http://docs.scipy.org/doc/scipy-0.16.0/reference/generated/scipy.stats.binom.html). How can you test if your matrix is consistent?\n",
    "* For $N=4$, calculate the probability that a population with 4 copies of allele A transitions into a state with 3, 4, 5 copies. Why should these values be symmetric around 4 copy numbers? \n",
    "* Use the function [matrix_power](http://docs.scipy.org/doc/numpy/reference/generated/numpy.linalg.matrix_power.html) from numpy.linalg to compute the distribution for 19 generations with the parameters $N=16$ and initial population frequency of the reference allele of $\\frac{1}{2}$. The state probability vector after $t$ transitions is given by\n",
    "$$p(t) = p(0)T^t$$"
   ]
  },
  {
   "cell_type": "code",
   "execution_count": null,
   "metadata": {
    "collapsed": true
   },
   "outputs": [],
   "source": []
  },
  {
   "cell_type": "markdown",
   "metadata": {},
   "source": [
    "## Mutation\n",
    "\n",
    "You have seen yourself that genetic drift removes variation from the population. Since we can observe standing variation, it is evident that genetic drift cannot be the only evolutionary force. There must be something that causes variation. To a certain extent, new variants can arise in a population due to migration, that is an influx of new alleles. However, the ultimate cause of allelic variation is mutation.\n",
    "\n",
    "To study the interplay of drift and mutation, we will focus on the decay of heterozygosity or the dynamics of the inbreeding coefficient. With mutation, inbreeding changes according to the formula\n",
    "\n",
    "$$ F_t = \\left[ \\frac{1}{2N} + \\left( 1 - \\frac{1}{2N} \\right) F_{t-1} \\right] \\left( 1 - u \\right)^2 $$\n",
    "\n",
    "where $(1-u)^2$ is the probability that no mutation occured in either of the two alleles and $u$ is the mutation probability (also called mutation rate).\n",
    "\n",
    "### 9. Simulate the dynamics of the inbreeding coefficient with and without mutation and observe the stationary state. Pick a population size not too small. Play with the number of generations."
   ]
  },
  {
   "cell_type": "code",
   "execution_count": null,
   "metadata": {
    "collapsed": true
   },
   "outputs": [],
   "source": []
  },
  {
   "cell_type": "markdown",
   "metadata": {},
   "source": [
    "## References\n",
    "\n",
    "Gillespie (2004) *Population Genetics: A Concise Guide* The Johns Hopkins University Press\n",
    "\n",
    "Hartl & Clark (2007) *Principles of Population Genetics* Sinauer Associates, Inc."
   ]
  },
  {
   "cell_type": "markdown",
   "metadata": {},
   "source": [
    "## Other Resources\n",
    "\n",
    "[Genetic Simulation Resources](http://popmodels.cancercontrol.cancer.gov/gsr/)"
   ]
  }
 ],
 "metadata": {
  "kernelspec": {
   "display_name": "Python 3",
   "language": "python",
   "name": "python3"
  },
  "language_info": {
   "codemirror_mode": {
    "name": "ipython",
    "version": 3
   },
   "file_extension": ".py",
   "mimetype": "text/x-python",
   "name": "python",
   "nbconvert_exporter": "python",
   "pygments_lexer": "ipython3",
   "version": "3.5.0"
  }
 },
 "nbformat": 4,
 "nbformat_minor": 0
}
